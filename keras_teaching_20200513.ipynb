{
  "nbformat": 4,
  "nbformat_minor": 0,
  "metadata": {
    "colab": {
      "name": "keras_teaching_20200513.ipynb",
      "provenance": []
    },
    "kernelspec": {
      "name": "python3",
      "display_name": "Python 3"
    }
  },
  "cells": [
    {
      "cell_type": "markdown",
      "metadata": {
        "id": "fsn68nZFqiIH",
        "colab_type": "text"
      },
      "source": [
        "Sequetial Conv1D"
      ]
    },
    {
      "cell_type": "code",
      "metadata": {
        "id": "Cw3Yr3x9l_aN",
        "colab_type": "code",
        "colab": {}
      },
      "source": [
        "import keras\n",
        "from keras.models import Sequential\n",
        "from keras.layers import Dense, Dropout\n",
        "from keras.layers import Embedding\n",
        "from keras.layers import Conv1D, GlobalAveragePooling1D, MaxPooling1D"
      ],
      "execution_count": 0,
      "outputs": []
    },
    {
      "cell_type": "code",
      "metadata": {
        "id": "dhCkg1XLrGc4",
        "colab_type": "code",
        "colab": {}
      },
      "source": [
        "seq_length = 100\n",
        "\n",
        "model = Sequential()\n",
        "model.add(Conv1D(64, 3, activation='relu', input_shape=(seq_length, 100)))\n",
        "model.add(Conv1D(64, 3, activation='relu' ))\n",
        "model.add(MaxPooling1D(3))\n",
        "model.add(Conv1D(128, 3, activation='relu' ))\n",
        "model.add(Conv1D(128, 3, activation='relu' ))\n",
        "model.add(GlobalAveragePooling1D())\n",
        "model.add(Dropout(0.5))\n",
        "model.add(Dense(1, activation='sigmoid'))"
      ],
      "execution_count": 0,
      "outputs": []
    },
    {
      "cell_type": "code",
      "metadata": {
        "id": "bKWYnvS_smK_",
        "colab_type": "code",
        "outputId": "2d678ac0-8b22-48e8-b00a-b6149b799df4",
        "colab": {
          "base_uri": "https://localhost:8080/",
          "height": 425
        }
      },
      "source": [
        "model.summary()"
      ],
      "execution_count": 0,
      "outputs": [
        {
          "output_type": "stream",
          "text": [
            "Model: \"sequential_4\"\n",
            "_________________________________________________________________\n",
            "Layer (type)                 Output Shape              Param #   \n",
            "=================================================================\n",
            "conv1d_9 (Conv1D)            (None, 98, 64)            19264     \n",
            "_________________________________________________________________\n",
            "conv1d_10 (Conv1D)           (None, 96, 64)            12352     \n",
            "_________________________________________________________________\n",
            "max_pooling1d_3 (MaxPooling1 (None, 32, 64)            0         \n",
            "_________________________________________________________________\n",
            "conv1d_11 (Conv1D)           (None, 30, 128)           24704     \n",
            "_________________________________________________________________\n",
            "conv1d_12 (Conv1D)           (None, 28, 128)           49280     \n",
            "_________________________________________________________________\n",
            "global_average_pooling1d_3 ( (None, 128)               0         \n",
            "_________________________________________________________________\n",
            "dropout_2 (Dropout)          (None, 128)               0         \n",
            "_________________________________________________________________\n",
            "dense_2 (Dense)              (None, 1)                 129       \n",
            "=================================================================\n",
            "Total params: 105,729\n",
            "Trainable params: 105,729\n",
            "Non-trainable params: 0\n",
            "_________________________________________________________________\n"
          ],
          "name": "stdout"
        }
      ]
    },
    {
      "cell_type": "code",
      "metadata": {
        "id": "N_Z3pBQrtQQa",
        "colab_type": "code",
        "outputId": "c2b558aa-6c23-4789-e52b-2ba9d6e21abb",
        "colab": {
          "base_uri": "https://localhost:8080/",
          "height": 289
        }
      },
      "source": [
        "import numpy as np\n",
        "import keras\n",
        "\n",
        "# random seed\n",
        "seed = 10\n",
        "np.random.seed(seed)\n",
        "\n",
        "# 創1維向量, shape suitable for keras input of conv1D\n",
        "# conv1d input.shape (batch_size, steps, input_dim)\n",
        "data_1d = np.random.normal(size=25)\n",
        "data_1d = np.expand_dims(data_1d, 0)\n",
        "data_1d = np.expand_dims(data_1d, 2) # size=25=steps\n",
        "\n",
        "# convolutional layer definition\n",
        "# data_1d = (1,25,1) data_1d size = batch_size*steps*input_dim = 1*25*1 = 25\n",
        "\n",
        "filters = 1 # 卷積核數量=1\n",
        "kernel_size = 5 # 卷積核大小=5\n",
        "\n",
        "convolution_1d_layer = keras.layers.convolutional.Conv1D(filters, kernel_size, strides=1,\n",
        "                                                         padding='valid', input_shape=(25,1), activation='relu', name= \"convlution_1d_layer\" )\n",
        "# maxpooling layer\n",
        "max_pooling_layer = keras.layers.MaxPooling1D(pool_size=5, strides=1, padding='valid', name=\"max_pooling_layer\") \n",
        "\n",
        "# flatten 平坦層, 調整維度, 接後面的全聯結層\n",
        "reshape_layer = keras.layers.core.Flatten(name=\"reshape_layer\")\n",
        "\n",
        "# full_connect_layer 按照常態分佈生成隨機tensor的初始化器\n",
        "full_connect_layer = keras.layers.Dense(5, kernel_initializer=keras.initializers.RandomNormal(mean=0.0, stddev=0.1, seed=seed),\n",
        "                                        bias_initializer=\"random_normal\", use_bias=True, name=\"full_connect_layer\")\n",
        "\n",
        "# 編譯模型\n",
        "model = keras.Sequential()\n",
        "model.add(convolution_1d_layer)\n",
        "model.add(max_pooling_layer)\n",
        "model.add(reshape_layer)\n",
        "model.add(full_connect_layer)\n",
        "\n",
        "model.summary()"
      ],
      "execution_count": 0,
      "outputs": [
        {
          "output_type": "stream",
          "text": [
            "Model: \"sequential_8\"\n",
            "_________________________________________________________________\n",
            "Layer (type)                 Output Shape              Param #   \n",
            "=================================================================\n",
            "convlution_1d_layer (Conv1D) (None, 21, 1)             6         \n",
            "_________________________________________________________________\n",
            "max_pooling_layer (MaxPoolin (None, 17, 1)             0         \n",
            "_________________________________________________________________\n",
            "reshape_layer (Flatten)      (None, 17)                0         \n",
            "_________________________________________________________________\n",
            "full_connect_layer (Dense)   (None, 5)                 90        \n",
            "=================================================================\n",
            "Total params: 96\n",
            "Trainable params: 96\n",
            "Non-trainable params: 0\n",
            "_________________________________________________________________\n"
          ],
          "name": "stdout"
        }
      ]
    },
    {
      "cell_type": "code",
      "metadata": {
        "id": "pnmtDDH223QK",
        "colab_type": "code",
        "colab": {}
      },
      "source": [
        "output =  keras.Model(inputs=model.input, \n",
        "                      outputs=model.get_layer('full_connect_layer').output).                      predict(data_1d)"
      ],
      "execution_count": 0,
      "outputs": []
    },
    {
      "cell_type": "code",
      "metadata": {
        "id": "ePekjfqo3p3O",
        "colab_type": "code",
        "outputId": "d67768b0-211e-4b62-b726-9038af2bde69",
        "colab": {
          "base_uri": "https://localhost:8080/",
          "height": 51
        }
      },
      "source": [
        "print(output,'\\n')"
      ],
      "execution_count": 0,
      "outputs": [
        {
          "output_type": "stream",
          "text": [
            "[[ 0.02632669 -0.4254459   0.15431698 -0.17618844 -0.13731775]] \n",
            "\n"
          ],
          "name": "stdout"
        }
      ]
    },
    {
      "cell_type": "code",
      "metadata": {
        "id": "YxHJEh3jxzCx",
        "colab_type": "code",
        "outputId": "8b5b3357-9f8d-4dd3-a30b-117e7a1a5673",
        "colab": {
          "base_uri": "https://localhost:8080/",
          "height": 34
        }
      },
      "source": [
        "data_1d.shape"
      ],
      "execution_count": 0,
      "outputs": [
        {
          "output_type": "execute_result",
          "data": {
            "text/plain": [
              "(1, 25, 1)"
            ]
          },
          "metadata": {
            "tags": []
          },
          "execution_count": 33
        }
      ]
    },
    {
      "cell_type": "code",
      "metadata": {
        "id": "AMvKk9IIwTP4",
        "colab_type": "code",
        "outputId": "bd036018-2e74-452b-a050-3fb4802f0ade",
        "colab": {
          "base_uri": "https://localhost:8080/",
          "height": 51
        }
      },
      "source": [
        "# np.expand_dims example\n",
        "a = np.array([4,6])\n",
        "print(a.shape)\n",
        "a = np.expand_dims(a, axis=0)\n",
        "print(a.shape)"
      ],
      "execution_count": 0,
      "outputs": [
        {
          "output_type": "stream",
          "text": [
            "(2,)\n",
            "(1, 2)\n"
          ],
          "name": "stdout"
        }
      ]
    },
    {
      "cell_type": "code",
      "metadata": {
        "id": "D1nlTBlnxGgc",
        "colab_type": "code",
        "outputId": "baf9dd96-6b33-4c07-ae7a-56f42059b5ba",
        "colab": {
          "base_uri": "https://localhost:8080/",
          "height": 51
        }
      },
      "source": [
        "a = np.array([[4,6],[5,7],[8,9]])\n",
        "print(a.shape)\n",
        "a = np.expand_dims(a, axis=0)\n",
        "print(a.shape)"
      ],
      "execution_count": 0,
      "outputs": [
        {
          "output_type": "stream",
          "text": [
            "(3, 2)\n",
            "(1, 3, 2)\n"
          ],
          "name": "stdout"
        }
      ]
    },
    {
      "cell_type": "code",
      "metadata": {
        "id": "is8hStcCvn3d",
        "colab_type": "code",
        "colab": {}
      },
      "source": [
        "# random normal example\n",
        "numpy.random.normal(loc=0.0, scale=1.0, size=None)"
      ],
      "execution_count": 0,
      "outputs": []
    },
    {
      "cell_type": "code",
      "metadata": {
        "id": "vSK18PWvux_1",
        "colab_type": "code",
        "outputId": "7e73daa2-16d2-44cc-bdc8-fe7bd84e7a6d",
        "colab": {
          "base_uri": "https://localhost:8080/",
          "height": 442
        }
      },
      "source": [
        "data_1d"
      ],
      "execution_count": 0,
      "outputs": [
        {
          "output_type": "execute_result",
          "data": {
            "text/plain": [
              "array([[[ 1.3315865 ],\n",
              "        [ 0.71527897],\n",
              "        [-1.54540029],\n",
              "        [-0.00838385],\n",
              "        [ 0.62133597],\n",
              "        [-0.72008556],\n",
              "        [ 0.26551159],\n",
              "        [ 0.10854853],\n",
              "        [ 0.00429143],\n",
              "        [-0.17460021],\n",
              "        [ 0.43302619],\n",
              "        [ 1.20303737],\n",
              "        [-0.96506567],\n",
              "        [ 1.02827408],\n",
              "        [ 0.22863013],\n",
              "        [ 0.44513761],\n",
              "        [-1.13660221],\n",
              "        [ 0.13513688],\n",
              "        [ 1.484537  ],\n",
              "        [-1.07980489],\n",
              "        [-1.97772828],\n",
              "        [-1.7433723 ],\n",
              "        [ 0.26607016],\n",
              "        [ 2.38496733],\n",
              "        [ 1.12369125]]])"
            ]
          },
          "metadata": {
            "tags": []
          },
          "execution_count": 22
        }
      ]
    },
    {
      "cell_type": "code",
      "metadata": {
        "id": "Im4_CHA1tnPC",
        "colab_type": "code",
        "outputId": "d9712582-4191-43ea-a61a-355e16be6df9",
        "colab": {
          "base_uri": "https://localhost:8080/",
          "height": 51
        }
      },
      "source": [
        "np.random.seed(1)\n",
        "np.random.randn(2,2)"
      ],
      "execution_count": 0,
      "outputs": [
        {
          "output_type": "execute_result",
          "data": {
            "text/plain": [
              "array([[ 1.62434536, -0.61175641],\n",
              "       [-0.52817175, -1.07296862]])"
            ]
          },
          "metadata": {
            "tags": []
          },
          "execution_count": 13
        }
      ]
    },
    {
      "cell_type": "code",
      "metadata": {
        "id": "il6x-1cFtv1N",
        "colab_type": "code",
        "outputId": "cc12ee8b-7529-46e1-d062-b8d844fa2f81",
        "colab": {
          "base_uri": "https://localhost:8080/",
          "height": 51
        }
      },
      "source": [
        "np.random.randn(2,2)"
      ],
      "execution_count": 0,
      "outputs": [
        {
          "output_type": "execute_result",
          "data": {
            "text/plain": [
              "array([[ 0.86540763, -2.3015387 ],\n",
              "       [ 1.74481176, -0.7612069 ]])"
            ]
          },
          "metadata": {
            "tags": []
          },
          "execution_count": 14
        }
      ]
    },
    {
      "cell_type": "code",
      "metadata": {
        "id": "WUtcsRS9tz6Z",
        "colab_type": "code",
        "outputId": "fc6ab678-8000-4006-a8a9-2c57454bfc8c",
        "colab": {
          "base_uri": "https://localhost:8080/",
          "height": 51
        }
      },
      "source": [
        "np.random.seed(10)\n",
        "np.random.randn(2,2)"
      ],
      "execution_count": 0,
      "outputs": [
        {
          "output_type": "execute_result",
          "data": {
            "text/plain": [
              "array([[ 1.3315865 ,  0.71527897],\n",
              "       [-1.54540029, -0.00838385]])"
            ]
          },
          "metadata": {
            "tags": []
          },
          "execution_count": 16
        }
      ]
    },
    {
      "cell_type": "markdown",
      "metadata": {
        "id": "mprSmno6FhRB",
        "colab_type": "text"
      },
      "source": [
        "# LSTM 做序列分類"
      ]
    },
    {
      "cell_type": "code",
      "metadata": {
        "id": "AntjEe98Fgni",
        "colab_type": "code",
        "outputId": "82846ab1-7f7c-40be-b462-15e35037996a",
        "colab": {
          "base_uri": "https://localhost:8080/",
          "height": 255
        }
      },
      "source": [
        "import keras\n",
        "from keras.layers import LSTM, Dense\n",
        "import numpy as np\n",
        "\n",
        "data_dim = 1\n",
        "timesteps = 8\n",
        "num_classes = 10 \n",
        "\n",
        "# model\n",
        "model = Sequential()\n",
        "model.add(LSTM(32, return_sequences=True, input_shape=(timesteps,data_dim)))\n",
        "model.add(LSTM(32, return_sequences=True)) # return a single vector of dmension 32\n",
        "model.add(Dense(num_classes, activation='softmax'))  \n",
        "\n",
        "model.summary()"
      ],
      "execution_count": 0,
      "outputs": [
        {
          "output_type": "stream",
          "text": [
            "Model: \"sequential_10\"\n",
            "_________________________________________________________________\n",
            "Layer (type)                 Output Shape              Param #   \n",
            "=================================================================\n",
            "lstm_2 (LSTM)                (None, 8, 32)             4352      \n",
            "_________________________________________________________________\n",
            "lstm_3 (LSTM)                (None, 8, 32)             8320      \n",
            "_________________________________________________________________\n",
            "dense_4 (Dense)              (None, 8, 10)             330       \n",
            "=================================================================\n",
            "Total params: 13,002\n",
            "Trainable params: 13,002\n",
            "Non-trainable params: 0\n",
            "_________________________________________________________________\n"
          ],
          "name": "stdout"
        }
      ]
    },
    {
      "cell_type": "code",
      "metadata": {
        "id": "Kpe0cNsGHteH",
        "colab_type": "code",
        "colab": {}
      },
      "source": [
        "# Keras LSTM \n",
        "# 輸出的hidden state 包含所有的time steps的結果\n",
        "LSTM(1, return_sequences=True)"
      ],
      "execution_count": 0,
      "outputs": []
    },
    {
      "cell_type": "code",
      "metadata": {
        "id": "2TsyiClYX58q",
        "colab_type": "code",
        "colab": {}
      },
      "source": [
        "lstm1, state_h, state_c = LSTM(1, return_state=True)\n",
        "# 輸出所有time steps的hidden state, 又會去輸出cell state\n",
        "lstm1, state_h, state_c = LSTM(1, return_sequences=True, return_state=True)"
      ],
      "execution_count": 0,
      "outputs": []
    },
    {
      "cell_type": "markdown",
      "metadata": {
        "id": "_zi_Djc8KBmj",
        "colab_type": "text"
      },
      "source": [
        "# Stateful LSTM"
      ]
    },
    {
      "cell_type": "code",
      "metadata": {
        "id": "CCLRzjQWJ9s3",
        "colab_type": "code",
        "colab": {}
      },
      "source": [
        "# Stateful LSTM: 模型會去學習輸入sample之間的時序特徵, 適合長序列的預測, 會知道sample前後順序的差異\n",
        "# sample前後順序差異, 會對此模型產生影響\n",
        "# Stateless LSTM: 每個sample獨立, 前後沒關係, sample進來後會被shuffle, 適合沒有前後關係的樣本\n",
        "\n",
        "# Stateless LSTM 調用下面function將LSTM網路中的記憶狀態初始化, 因為shuffle後記憶參數傳遞無意義\n",
        "model.reset_states() # 重製模型所有層的狀態\n",
        "layer.reset_states() # 重製指定rnn層的狀態\n",
        "\n",
        "# Stateful LSTM \n",
        "# stateful = True, shuffle=False\n",
        "# X[i]將記憶參數傳遞給X[i+bs] (第i+bs個sample) bs = batch_size\n",
        "# X[i+n*bs] 也知道X[i]的訊息"
      ],
      "execution_count": 0,
      "outputs": []
    },
    {
      "cell_type": "code",
      "metadata": {
        "id": "VlGOL0LvN80i",
        "colab_type": "code",
        "outputId": "8f8cbd59-962d-4569-da5d-f07904a57485",
        "colab": {
          "base_uri": "https://localhost:8080/",
          "height": 289
        }
      },
      "source": [
        "# Stateful LSTM\n",
        "data_dim = 16\n",
        "timesteps = 8\n",
        "num_classes = 10\n",
        "batch_size = 2\n",
        "\n",
        "# input shape:(batch_size, time_steps, data_dim)\n",
        "model=Sequential()\n",
        "model.add(LSTM(32, return_sequences=True, stateful=True,\n",
        "               batch_input_shape=(batch_size, timesteps, data_dim)))\n",
        "model.add(LSTM(32, return_sequences=True, stateful=True))\n",
        "model.add(LSTM(32, stateful=True))\n",
        "model.add(Dense(10, activation='softmax'))\n",
        "\n",
        "model.summary()"
      ],
      "execution_count": 0,
      "outputs": [
        {
          "output_type": "stream",
          "text": [
            "Model: \"sequential_13\"\n",
            "_________________________________________________________________\n",
            "Layer (type)                 Output Shape              Param #   \n",
            "=================================================================\n",
            "lstm_8 (LSTM)                (2, 8, 32)                6272      \n",
            "_________________________________________________________________\n",
            "lstm_9 (LSTM)                (2, 8, 32)                8320      \n",
            "_________________________________________________________________\n",
            "lstm_10 (LSTM)               (2, 32)                   8320      \n",
            "_________________________________________________________________\n",
            "dense_5 (Dense)              (2, 10)                   330       \n",
            "=================================================================\n",
            "Total params: 23,242\n",
            "Trainable params: 23,242\n",
            "Non-trainable params: 0\n",
            "_________________________________________________________________\n"
          ],
          "name": "stdout"
        }
      ]
    },
    {
      "cell_type": "code",
      "metadata": {
        "id": "7dlxtYZkQLSJ",
        "colab_type": "code",
        "outputId": "16231ce8-7fc6-4ccf-e08b-06306a9fb49b",
        "colab": {
          "base_uri": "https://localhost:8080/",
          "height": 466
        }
      },
      "source": [
        "# PIL (Pillow)\n",
        "from keras.utils import plot_model\n",
        "from PIL import Image\n",
        "\n",
        "plot_model(model, to_file = (\"Stateful_LSTM.png\"))"
      ],
      "execution_count": 0,
      "outputs": [
        {
          "output_type": "execute_result",
          "data": {
            "image/png": "[encoded data removed]",
            "text/plain": [
              "<IPython.core.display.Image object>"
            ]
          },
          "metadata": {
            "tags": []
          },
          "execution_count": 60
        }
      ]
    },
    {
      "cell_type": "markdown",
      "metadata": {
        "id": "pUMyBbIcQA7d",
        "colab_type": "text"
      },
      "source": [
        "# LSTM FUNCTIONAL MODEL EXAMPLE"
      ]
    }
  ]
}